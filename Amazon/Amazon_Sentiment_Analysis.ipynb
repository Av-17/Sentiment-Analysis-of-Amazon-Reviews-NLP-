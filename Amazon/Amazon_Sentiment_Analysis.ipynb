{
 "cells": [
  {
   "cell_type": "code",
   "execution_count": 1,
   "metadata": {
    "executionInfo": {
     "elapsed": 457,
     "status": "ok",
     "timestamp": 1731224034437,
     "user": {
      "displayName": "Mohit Singh Adhikari",
      "userId": "17134037588777525904"
     },
     "user_tz": -330
    },
    "id": "65b2N8O99VGB"
   },
   "outputs": [],
   "source": [
    "import pandas as pd\n",
    "from vaderSentiment.vaderSentiment import SentimentIntensityAnalyzer \n",
    "from sklearn.metrics import confusion_matrix,classification_report,accuracy_score"
   ]
  },
  {
   "cell_type": "code",
   "execution_count": 2,
   "metadata": {
    "executionInfo": {
     "elapsed": 420,
     "status": "ok",
     "timestamp": 1731224261222,
     "user": {
      "displayName": "Mohit Singh Adhikari",
      "userId": "17134037588777525904"
     },
     "user_tz": -330
    },
    "id": "-064W1T1_phQ"
   },
   "outputs": [],
   "source": [
    "corpus=pd.read_csv('amazonreviews.tsv',sep='\\t')\n",
    "#tsv---> tab seperated values"
   ]
  },
  {
   "cell_type": "code",
   "execution_count": 3,
   "metadata": {
    "colab": {
     "base_uri": "https://localhost:8080/",
     "height": 423
    },
    "executionInfo": {
     "elapsed": 491,
     "status": "ok",
     "timestamp": 1731224270350,
     "user": {
      "displayName": "Mohit Singh Adhikari",
      "userId": "17134037588777525904"
     },
     "user_tz": -330
    },
    "id": "2mqM84BcAdjI",
    "outputId": "663238bb-7033-456d-cd49-79543fa5832d"
   },
   "outputs": [
    {
     "data": {
      "text/html": [
       "<div>\n",
       "<style scoped>\n",
       "    .dataframe tbody tr th:only-of-type {\n",
       "        vertical-align: middle;\n",
       "    }\n",
       "\n",
       "    .dataframe tbody tr th {\n",
       "        vertical-align: top;\n",
       "    }\n",
       "\n",
       "    .dataframe thead th {\n",
       "        text-align: right;\n",
       "    }\n",
       "</style>\n",
       "<table border=\"1\" class=\"dataframe\">\n",
       "  <thead>\n",
       "    <tr style=\"text-align: right;\">\n",
       "      <th></th>\n",
       "      <th>label</th>\n",
       "      <th>review</th>\n",
       "    </tr>\n",
       "  </thead>\n",
       "  <tbody>\n",
       "    <tr>\n",
       "      <th>0</th>\n",
       "      <td>pos</td>\n",
       "      <td>Stuning even for the non-gamer: This sound tra...</td>\n",
       "    </tr>\n",
       "    <tr>\n",
       "      <th>1</th>\n",
       "      <td>pos</td>\n",
       "      <td>The best soundtrack ever to anything.: I'm rea...</td>\n",
       "    </tr>\n",
       "    <tr>\n",
       "      <th>2</th>\n",
       "      <td>pos</td>\n",
       "      <td>Amazing!: This soundtrack is my favorite music...</td>\n",
       "    </tr>\n",
       "    <tr>\n",
       "      <th>3</th>\n",
       "      <td>pos</td>\n",
       "      <td>Excellent Soundtrack: I truly like this soundt...</td>\n",
       "    </tr>\n",
       "    <tr>\n",
       "      <th>4</th>\n",
       "      <td>pos</td>\n",
       "      <td>Remember, Pull Your Jaw Off The Floor After He...</td>\n",
       "    </tr>\n",
       "    <tr>\n",
       "      <th>...</th>\n",
       "      <td>...</td>\n",
       "      <td>...</td>\n",
       "    </tr>\n",
       "    <tr>\n",
       "      <th>9995</th>\n",
       "      <td>pos</td>\n",
       "      <td>A revelation of life in small town America in ...</td>\n",
       "    </tr>\n",
       "    <tr>\n",
       "      <th>9996</th>\n",
       "      <td>pos</td>\n",
       "      <td>Great biography of a very interesting journali...</td>\n",
       "    </tr>\n",
       "    <tr>\n",
       "      <th>9997</th>\n",
       "      <td>neg</td>\n",
       "      <td>Interesting Subject; Poor Presentation: You'd ...</td>\n",
       "    </tr>\n",
       "    <tr>\n",
       "      <th>9998</th>\n",
       "      <td>neg</td>\n",
       "      <td>Don't buy: The box looked used and it is obvio...</td>\n",
       "    </tr>\n",
       "    <tr>\n",
       "      <th>9999</th>\n",
       "      <td>pos</td>\n",
       "      <td>Beautiful Pen and Fast Delivery.: The pen was ...</td>\n",
       "    </tr>\n",
       "  </tbody>\n",
       "</table>\n",
       "<p>10000 rows × 2 columns</p>\n",
       "</div>"
      ],
      "text/plain": [
       "     label                                             review\n",
       "0      pos  Stuning even for the non-gamer: This sound tra...\n",
       "1      pos  The best soundtrack ever to anything.: I'm rea...\n",
       "2      pos  Amazing!: This soundtrack is my favorite music...\n",
       "3      pos  Excellent Soundtrack: I truly like this soundt...\n",
       "4      pos  Remember, Pull Your Jaw Off The Floor After He...\n",
       "...    ...                                                ...\n",
       "9995   pos  A revelation of life in small town America in ...\n",
       "9996   pos  Great biography of a very interesting journali...\n",
       "9997   neg  Interesting Subject; Poor Presentation: You'd ...\n",
       "9998   neg  Don't buy: The box looked used and it is obvio...\n",
       "9999   pos  Beautiful Pen and Fast Delivery.: The pen was ...\n",
       "\n",
       "[10000 rows x 2 columns]"
      ]
     },
     "execution_count": 3,
     "metadata": {},
     "output_type": "execute_result"
    }
   ],
   "source": [
    "corpus"
   ]
  },
  {
   "cell_type": "code",
   "execution_count": 4,
   "metadata": {
    "colab": {
     "base_uri": "https://localhost:8080/"
    },
    "executionInfo": {
     "elapsed": 441,
     "status": "ok",
     "timestamp": 1731227641935,
     "user": {
      "displayName": "Mohit Singh Adhikari",
      "userId": "17134037588777525904"
     },
     "user_tz": -330
    },
    "id": "nPbRamMyNS0d",
    "outputId": "0554082a-6edc-4e10-be13-aa4b34483275"
   },
   "outputs": [
    {
     "data": {
      "text/plain": [
       "(10000, 2)"
      ]
     },
     "execution_count": 4,
     "metadata": {},
     "output_type": "execute_result"
    }
   ],
   "source": [
    "corpus.shape"
   ]
  },
  {
   "cell_type": "code",
   "execution_count": 5,
   "metadata": {
    "colab": {
     "base_uri": "https://localhost:8080/",
     "height": 70
    },
    "executionInfo": {
     "elapsed": 449,
     "status": "ok",
     "timestamp": 1731224411232,
     "user": {
      "displayName": "Mohit Singh Adhikari",
      "userId": "17134037588777525904"
     },
     "user_tz": -330
    },
    "id": "F7-8KOzzA55a",
    "outputId": "6575665c-f2e4-4123-dc55-d499d567df9a"
   },
   "outputs": [
    {
     "data": {
      "text/plain": [
       "'Stuning even for the non-gamer: This sound track was beautiful! It paints the senery in your mind so well I would recomend it even to people who hate vid. game music! I have played the game Chrono Cross but out of all of the games I have ever played it has the best music! It backs away from crude keyboarding and takes a fresher step with grate guitars and soulful orchestras. It would impress anyone who cares to listen! ^_^'"
      ]
     },
     "execution_count": 5,
     "metadata": {},
     "output_type": "execute_result"
    }
   ],
   "source": [
    "corpus.iloc[0]['review']"
   ]
  },
  {
   "cell_type": "code",
   "execution_count": 6,
   "metadata": {
    "colab": {
     "base_uri": "https://localhost:8080/",
     "height": 142
    },
    "executionInfo": {
     "elapsed": 441,
     "status": "ok",
     "timestamp": 1731224440031,
     "user": {
      "displayName": "Mohit Singh Adhikari",
      "userId": "17134037588777525904"
     },
     "user_tz": -330
    },
    "id": "t7m2PsxOBCrl",
    "outputId": "9adc07cf-362e-4ccc-92e4-2c40cea3aa87"
   },
   "outputs": [
    {
     "name": "stderr",
     "output_type": "stream",
     "text": [
      "C:\\Users\\Vivek A Prajapati\\AppData\\Local\\Temp\\ipykernel_556\\2510075653.py:1: FutureWarning: Series.__getitem__ treating keys as positions is deprecated. In a future version, integer keys will always be treated as labels (consistent with DataFrame behavior). To access a value by position, use `ser.iloc[pos]`\n",
      "  corpus.iloc[9997][1]\n"
     ]
    },
    {
     "data": {
      "text/plain": [
       "\"Interesting Subject; Poor Presentation: You'd be hard-pressed to tell a boring story about about a plucky country newspaper editor who had principles and stuck to 'em. But this author has done it. He says the book is an adaptation of his doctoral thesis. That fits. The book reads like a well-done, fully footnoted college paper, not like a dramatic novel. It strives to identify key historical facts at the expense of the reader's interest. With a modest amount of effort, it could have been reworked as a compelling autobiographical novel bolstered by its remarkable display of features of midwestern life during the first half of the 20th Century.\""
      ]
     },
     "execution_count": 6,
     "metadata": {},
     "output_type": "execute_result"
    }
   ],
   "source": [
    "corpus.iloc[9997][1]"
   ]
  },
  {
   "cell_type": "code",
   "execution_count": 7,
   "metadata": {
    "colab": {
     "base_uri": "https://localhost:8080/",
     "height": 88
    },
    "executionInfo": {
     "elapsed": 431,
     "status": "ok",
     "timestamp": 1731224466068,
     "user": {
      "displayName": "Mohit Singh Adhikari",
      "userId": "17134037588777525904"
     },
     "user_tz": -330
    },
    "id": "wnxCw1afBKCg",
    "outputId": "f2839f4d-1af9-47f5-e45b-efe17939fa2a"
   },
   "outputs": [
    {
     "data": {
      "text/plain": [
       "\"Interesting Subject; Poor Presentation: You'd be hard-pressed to tell a boring story about about a plucky country newspaper editor who had principles and stuck to 'em. But this author has done it. He says the book is an adaptation of his doctoral thesis. That fits. The book reads like a well-done, fully footnoted college paper, not like a dramatic novel. It strives to identify key historical facts at the expense of the reader's interest. With a modest amount of effort, it could have been reworked as a compelling autobiographical novel bolstered by its remarkable display of features of midwestern life during the first half of the 20th Century.\""
      ]
     },
     "execution_count": 7,
     "metadata": {},
     "output_type": "execute_result"
    }
   ],
   "source": [
    "corpus.iloc[9997]['review']"
   ]
  },
  {
   "cell_type": "code",
   "execution_count": 8,
   "metadata": {
    "executionInfo": {
     "elapsed": 455,
     "status": "ok",
     "timestamp": 1731224675124,
     "user": {
      "displayName": "Mohit Singh Adhikari",
      "userId": "17134037588777525904"
     },
     "user_tz": -330
    },
    "id": "Brx0p36xB-wR"
   },
   "outputs": [],
   "source": [
    "se=SentimentIntensityAnalyzer()"
   ]
  },
  {
   "cell_type": "code",
   "execution_count": 9,
   "metadata": {
    "executionInfo": {
     "elapsed": 416,
     "status": "ok",
     "timestamp": 1731224976034,
     "user": {
      "displayName": "Mohit Singh Adhikari",
      "userId": "17134037588777525904"
     },
     "user_tz": -330
    },
    "id": "rR9k86fzCC3K"
   },
   "outputs": [],
   "source": [
    "s='Amar is Good Boy '"
   ]
  },
  {
   "cell_type": "code",
   "execution_count": 10,
   "metadata": {
    "colab": {
     "base_uri": "https://localhost:8080/"
    },
    "executionInfo": {
     "elapsed": 22,
     "status": "ok",
     "timestamp": 1731224989119,
     "user": {
      "displayName": "Mohit Singh Adhikari",
      "userId": "17134037588777525904"
     },
     "user_tz": -330
    },
    "id": "TCqFy-TgDL-L",
    "outputId": "bba3e79e-a9b6-48e1-c98f-8a251e53233c"
   },
   "outputs": [
    {
     "data": {
      "text/plain": [
       "{'neg': 0.0, 'neu': 0.508, 'pos': 0.492, 'compound': 0.4404}"
      ]
     },
     "execution_count": 10,
     "metadata": {},
     "output_type": "execute_result"
    }
   ],
   "source": [
    "se.polarity_scores(s)"
   ]
  },
  {
   "cell_type": "code",
   "execution_count": 11,
   "metadata": {
    "colab": {
     "base_uri": "https://localhost:8080/"
    },
    "executionInfo": {
     "elapsed": 452,
     "status": "ok",
     "timestamp": 1731225063757,
     "user": {
      "displayName": "Mohit Singh Adhikari",
      "userId": "17134037588777525904"
     },
     "user_tz": -330
    },
    "id": "JnRScryXDaTg",
    "outputId": "f94f2691-eaf9-49a5-fc19-34df6999449c"
   },
   "outputs": [
    {
     "data": {
      "text/plain": [
       "{'neg': 0.062, 'neu': 0.763, 'pos': 0.175, 'compound': 0.9467}"
      ]
     },
     "execution_count": 11,
     "metadata": {},
     "output_type": "execute_result"
    }
   ],
   "source": [
    "se.polarity_scores(corpus.iloc[9997]['review'])"
   ]
  },
  {
   "cell_type": "code",
   "execution_count": 12,
   "metadata": {
    "executionInfo": {
     "elapsed": 7936,
     "status": "ok",
     "timestamp": 1731225390639,
     "user": {
      "displayName": "Mohit Singh Adhikari",
      "userId": "17134037588777525904"
     },
     "user_tz": -330
    },
    "id": "mHH1Q2ZoEho2"
   },
   "outputs": [],
   "source": [
    "corpus['Polarity_Score']=corpus['review'].apply(lambda x:se.polarity_scores(x))"
   ]
  },
  {
   "cell_type": "code",
   "execution_count": 13,
   "metadata": {
    "colab": {
     "base_uri": "https://localhost:8080/",
     "height": 1810
    },
    "executionInfo": {
     "elapsed": 27,
     "status": "ok",
     "timestamp": 1731225399603,
     "user": {
      "displayName": "Mohit Singh Adhikari",
      "userId": "17134037588777525904"
     },
     "user_tz": -330
    },
    "id": "TVsQpQe-EyCB",
    "outputId": "c53a4951-5d43-451a-f69c-7acc295fd292"
   },
   "outputs": [
    {
     "data": {
      "text/html": [
       "<div>\n",
       "<style scoped>\n",
       "    .dataframe tbody tr th:only-of-type {\n",
       "        vertical-align: middle;\n",
       "    }\n",
       "\n",
       "    .dataframe tbody tr th {\n",
       "        vertical-align: top;\n",
       "    }\n",
       "\n",
       "    .dataframe thead th {\n",
       "        text-align: right;\n",
       "    }\n",
       "</style>\n",
       "<table border=\"1\" class=\"dataframe\">\n",
       "  <thead>\n",
       "    <tr style=\"text-align: right;\">\n",
       "      <th></th>\n",
       "      <th>label</th>\n",
       "      <th>review</th>\n",
       "      <th>Polarity_Score</th>\n",
       "    </tr>\n",
       "  </thead>\n",
       "  <tbody>\n",
       "    <tr>\n",
       "      <th>0</th>\n",
       "      <td>pos</td>\n",
       "      <td>Stuning even for the non-gamer: This sound tra...</td>\n",
       "      <td>{'neg': 0.085, 'neu': 0.682, 'pos': 0.233, 'co...</td>\n",
       "    </tr>\n",
       "    <tr>\n",
       "      <th>1</th>\n",
       "      <td>pos</td>\n",
       "      <td>The best soundtrack ever to anything.: I'm rea...</td>\n",
       "      <td>{'neg': 0.017, 'neu': 0.846, 'pos': 0.137, 'co...</td>\n",
       "    </tr>\n",
       "    <tr>\n",
       "      <th>2</th>\n",
       "      <td>pos</td>\n",
       "      <td>Amazing!: This soundtrack is my favorite music...</td>\n",
       "      <td>{'neg': 0.062, 'neu': 0.674, 'pos': 0.264, 'co...</td>\n",
       "    </tr>\n",
       "    <tr>\n",
       "      <th>3</th>\n",
       "      <td>pos</td>\n",
       "      <td>Excellent Soundtrack: I truly like this soundt...</td>\n",
       "      <td>{'neg': 0.086, 'neu': 0.632, 'pos': 0.282, 'co...</td>\n",
       "    </tr>\n",
       "    <tr>\n",
       "      <th>4</th>\n",
       "      <td>pos</td>\n",
       "      <td>Remember, Pull Your Jaw Off The Floor After He...</td>\n",
       "      <td>{'neg': 0.0, 'neu': 0.72, 'pos': 0.28, 'compou...</td>\n",
       "    </tr>\n",
       "    <tr>\n",
       "      <th>...</th>\n",
       "      <td>...</td>\n",
       "      <td>...</td>\n",
       "      <td>...</td>\n",
       "    </tr>\n",
       "    <tr>\n",
       "      <th>9995</th>\n",
       "      <td>pos</td>\n",
       "      <td>A revelation of life in small town America in ...</td>\n",
       "      <td>{'neg': 0.017, 'neu': 0.852, 'pos': 0.132, 'co...</td>\n",
       "    </tr>\n",
       "    <tr>\n",
       "      <th>9996</th>\n",
       "      <td>pos</td>\n",
       "      <td>Great biography of a very interesting journali...</td>\n",
       "      <td>{'neg': 0.0, 'neu': 0.874, 'pos': 0.126, 'comp...</td>\n",
       "    </tr>\n",
       "    <tr>\n",
       "      <th>9997</th>\n",
       "      <td>neg</td>\n",
       "      <td>Interesting Subject; Poor Presentation: You'd ...</td>\n",
       "      <td>{'neg': 0.062, 'neu': 0.763, 'pos': 0.175, 'co...</td>\n",
       "    </tr>\n",
       "    <tr>\n",
       "      <th>9998</th>\n",
       "      <td>neg</td>\n",
       "      <td>Don't buy: The box looked used and it is obvio...</td>\n",
       "      <td>{'neg': 0.087, 'neu': 0.913, 'pos': 0.0, 'comp...</td>\n",
       "    </tr>\n",
       "    <tr>\n",
       "      <th>9999</th>\n",
       "      <td>pos</td>\n",
       "      <td>Beautiful Pen and Fast Delivery.: The pen was ...</td>\n",
       "      <td>{'neg': 0.027, 'neu': 0.821, 'pos': 0.152, 'co...</td>\n",
       "    </tr>\n",
       "  </tbody>\n",
       "</table>\n",
       "<p>10000 rows × 3 columns</p>\n",
       "</div>"
      ],
      "text/plain": [
       "     label                                             review  \\\n",
       "0      pos  Stuning even for the non-gamer: This sound tra...   \n",
       "1      pos  The best soundtrack ever to anything.: I'm rea...   \n",
       "2      pos  Amazing!: This soundtrack is my favorite music...   \n",
       "3      pos  Excellent Soundtrack: I truly like this soundt...   \n",
       "4      pos  Remember, Pull Your Jaw Off The Floor After He...   \n",
       "...    ...                                                ...   \n",
       "9995   pos  A revelation of life in small town America in ...   \n",
       "9996   pos  Great biography of a very interesting journali...   \n",
       "9997   neg  Interesting Subject; Poor Presentation: You'd ...   \n",
       "9998   neg  Don't buy: The box looked used and it is obvio...   \n",
       "9999   pos  Beautiful Pen and Fast Delivery.: The pen was ...   \n",
       "\n",
       "                                         Polarity_Score  \n",
       "0     {'neg': 0.085, 'neu': 0.682, 'pos': 0.233, 'co...  \n",
       "1     {'neg': 0.017, 'neu': 0.846, 'pos': 0.137, 'co...  \n",
       "2     {'neg': 0.062, 'neu': 0.674, 'pos': 0.264, 'co...  \n",
       "3     {'neg': 0.086, 'neu': 0.632, 'pos': 0.282, 'co...  \n",
       "4     {'neg': 0.0, 'neu': 0.72, 'pos': 0.28, 'compou...  \n",
       "...                                                 ...  \n",
       "9995  {'neg': 0.017, 'neu': 0.852, 'pos': 0.132, 'co...  \n",
       "9996  {'neg': 0.0, 'neu': 0.874, 'pos': 0.126, 'comp...  \n",
       "9997  {'neg': 0.062, 'neu': 0.763, 'pos': 0.175, 'co...  \n",
       "9998  {'neg': 0.087, 'neu': 0.913, 'pos': 0.0, 'comp...  \n",
       "9999  {'neg': 0.027, 'neu': 0.821, 'pos': 0.152, 'co...  \n",
       "\n",
       "[10000 rows x 3 columns]"
      ]
     },
     "execution_count": 13,
     "metadata": {},
     "output_type": "execute_result"
    }
   ],
   "source": [
    "corpus"
   ]
  },
  {
   "cell_type": "code",
   "execution_count": 14,
   "metadata": {
    "executionInfo": {
     "elapsed": 494,
     "status": "ok",
     "timestamp": 1731225524386,
     "user": {
      "displayName": "Mohit Singh Adhikari",
      "userId": "17134037588777525904"
     },
     "user_tz": -330
    },
    "id": "u4m2IDQAFFYr"
   },
   "outputs": [],
   "source": [
    "corpus['compound']= corpus['Polarity_Score'].apply(lambda x:x['compound'])"
   ]
  },
  {
   "cell_type": "code",
   "execution_count": 15,
   "metadata": {
    "colab": {
     "base_uri": "https://localhost:8080/",
     "height": 423
    },
    "executionInfo": {
     "elapsed": 12,
     "status": "ok",
     "timestamp": 1731225531444,
     "user": {
      "displayName": "Mohit Singh Adhikari",
      "userId": "17134037588777525904"
     },
     "user_tz": -330
    },
    "id": "WSF7mqLZFSFm",
    "outputId": "8dba5d26-e4ba-4bed-9c67-7d4db1a80af8"
   },
   "outputs": [
    {
     "data": {
      "text/html": [
       "<div>\n",
       "<style scoped>\n",
       "    .dataframe tbody tr th:only-of-type {\n",
       "        vertical-align: middle;\n",
       "    }\n",
       "\n",
       "    .dataframe tbody tr th {\n",
       "        vertical-align: top;\n",
       "    }\n",
       "\n",
       "    .dataframe thead th {\n",
       "        text-align: right;\n",
       "    }\n",
       "</style>\n",
       "<table border=\"1\" class=\"dataframe\">\n",
       "  <thead>\n",
       "    <tr style=\"text-align: right;\">\n",
       "      <th></th>\n",
       "      <th>label</th>\n",
       "      <th>review</th>\n",
       "      <th>Polarity_Score</th>\n",
       "      <th>compound</th>\n",
       "    </tr>\n",
       "  </thead>\n",
       "  <tbody>\n",
       "    <tr>\n",
       "      <th>0</th>\n",
       "      <td>pos</td>\n",
       "      <td>Stuning even for the non-gamer: This sound tra...</td>\n",
       "      <td>{'neg': 0.085, 'neu': 0.682, 'pos': 0.233, 'co...</td>\n",
       "      <td>0.9454</td>\n",
       "    </tr>\n",
       "    <tr>\n",
       "      <th>1</th>\n",
       "      <td>pos</td>\n",
       "      <td>The best soundtrack ever to anything.: I'm rea...</td>\n",
       "      <td>{'neg': 0.017, 'neu': 0.846, 'pos': 0.137, 'co...</td>\n",
       "      <td>0.8957</td>\n",
       "    </tr>\n",
       "    <tr>\n",
       "      <th>2</th>\n",
       "      <td>pos</td>\n",
       "      <td>Amazing!: This soundtrack is my favorite music...</td>\n",
       "      <td>{'neg': 0.062, 'neu': 0.674, 'pos': 0.264, 'co...</td>\n",
       "      <td>0.9847</td>\n",
       "    </tr>\n",
       "    <tr>\n",
       "      <th>3</th>\n",
       "      <td>pos</td>\n",
       "      <td>Excellent Soundtrack: I truly like this soundt...</td>\n",
       "      <td>{'neg': 0.086, 'neu': 0.632, 'pos': 0.282, 'co...</td>\n",
       "      <td>0.9814</td>\n",
       "    </tr>\n",
       "    <tr>\n",
       "      <th>4</th>\n",
       "      <td>pos</td>\n",
       "      <td>Remember, Pull Your Jaw Off The Floor After He...</td>\n",
       "      <td>{'neg': 0.0, 'neu': 0.72, 'pos': 0.28, 'compou...</td>\n",
       "      <td>0.9840</td>\n",
       "    </tr>\n",
       "    <tr>\n",
       "      <th>...</th>\n",
       "      <td>...</td>\n",
       "      <td>...</td>\n",
       "      <td>...</td>\n",
       "      <td>...</td>\n",
       "    </tr>\n",
       "    <tr>\n",
       "      <th>9995</th>\n",
       "      <td>pos</td>\n",
       "      <td>A revelation of life in small town America in ...</td>\n",
       "      <td>{'neg': 0.017, 'neu': 0.852, 'pos': 0.132, 'co...</td>\n",
       "      <td>0.9610</td>\n",
       "    </tr>\n",
       "    <tr>\n",
       "      <th>9996</th>\n",
       "      <td>pos</td>\n",
       "      <td>Great biography of a very interesting journali...</td>\n",
       "      <td>{'neg': 0.0, 'neu': 0.874, 'pos': 0.126, 'comp...</td>\n",
       "      <td>0.9544</td>\n",
       "    </tr>\n",
       "    <tr>\n",
       "      <th>9997</th>\n",
       "      <td>neg</td>\n",
       "      <td>Interesting Subject; Poor Presentation: You'd ...</td>\n",
       "      <td>{'neg': 0.062, 'neu': 0.763, 'pos': 0.175, 'co...</td>\n",
       "      <td>0.9467</td>\n",
       "    </tr>\n",
       "    <tr>\n",
       "      <th>9998</th>\n",
       "      <td>neg</td>\n",
       "      <td>Don't buy: The box looked used and it is obvio...</td>\n",
       "      <td>{'neg': 0.087, 'neu': 0.913, 'pos': 0.0, 'comp...</td>\n",
       "      <td>-0.3595</td>\n",
       "    </tr>\n",
       "    <tr>\n",
       "      <th>9999</th>\n",
       "      <td>pos</td>\n",
       "      <td>Beautiful Pen and Fast Delivery.: The pen was ...</td>\n",
       "      <td>{'neg': 0.027, 'neu': 0.821, 'pos': 0.152, 'co...</td>\n",
       "      <td>0.9107</td>\n",
       "    </tr>\n",
       "  </tbody>\n",
       "</table>\n",
       "<p>10000 rows × 4 columns</p>\n",
       "</div>"
      ],
      "text/plain": [
       "     label                                             review  \\\n",
       "0      pos  Stuning even for the non-gamer: This sound tra...   \n",
       "1      pos  The best soundtrack ever to anything.: I'm rea...   \n",
       "2      pos  Amazing!: This soundtrack is my favorite music...   \n",
       "3      pos  Excellent Soundtrack: I truly like this soundt...   \n",
       "4      pos  Remember, Pull Your Jaw Off The Floor After He...   \n",
       "...    ...                                                ...   \n",
       "9995   pos  A revelation of life in small town America in ...   \n",
       "9996   pos  Great biography of a very interesting journali...   \n",
       "9997   neg  Interesting Subject; Poor Presentation: You'd ...   \n",
       "9998   neg  Don't buy: The box looked used and it is obvio...   \n",
       "9999   pos  Beautiful Pen and Fast Delivery.: The pen was ...   \n",
       "\n",
       "                                         Polarity_Score  compound  \n",
       "0     {'neg': 0.085, 'neu': 0.682, 'pos': 0.233, 'co...    0.9454  \n",
       "1     {'neg': 0.017, 'neu': 0.846, 'pos': 0.137, 'co...    0.8957  \n",
       "2     {'neg': 0.062, 'neu': 0.674, 'pos': 0.264, 'co...    0.9847  \n",
       "3     {'neg': 0.086, 'neu': 0.632, 'pos': 0.282, 'co...    0.9814  \n",
       "4     {'neg': 0.0, 'neu': 0.72, 'pos': 0.28, 'compou...    0.9840  \n",
       "...                                                 ...       ...  \n",
       "9995  {'neg': 0.017, 'neu': 0.852, 'pos': 0.132, 'co...    0.9610  \n",
       "9996  {'neg': 0.0, 'neu': 0.874, 'pos': 0.126, 'comp...    0.9544  \n",
       "9997  {'neg': 0.062, 'neu': 0.763, 'pos': 0.175, 'co...    0.9467  \n",
       "9998  {'neg': 0.087, 'neu': 0.913, 'pos': 0.0, 'comp...   -0.3595  \n",
       "9999  {'neg': 0.027, 'neu': 0.821, 'pos': 0.152, 'co...    0.9107  \n",
       "\n",
       "[10000 rows x 4 columns]"
      ]
     },
     "execution_count": 15,
     "metadata": {},
     "output_type": "execute_result"
    }
   ],
   "source": [
    "corpus"
   ]
  },
  {
   "cell_type": "code",
   "execution_count": 16,
   "metadata": {
    "colab": {
     "base_uri": "https://localhost:8080/"
    },
    "executionInfo": {
     "elapsed": 450,
     "status": "ok",
     "timestamp": 1731225684375,
     "user": {
      "displayName": "Mohit Singh Adhikari",
      "userId": "17134037588777525904"
     },
     "user_tz": -330
    },
    "id": "VZYR1TBoFrwX",
    "outputId": "7f082048-446b-40d9-c0e0-e19839ae7d03"
   },
   "outputs": [
    {
     "name": "stdout",
     "output_type": "stream",
     "text": [
      "you are eligible to vote\n"
     ]
    }
   ],
   "source": [
    "age=45\n",
    "print('you are eligible to vote') if (age>=18) else print('you are not eligible to vote')"
   ]
  },
  {
   "cell_type": "code",
   "execution_count": 17,
   "metadata": {
    "executionInfo": {
     "elapsed": 425,
     "status": "ok",
     "timestamp": 1731225801453,
     "user": {
      "displayName": "Mohit Singh Adhikari",
      "userId": "17134037588777525904"
     },
     "user_tz": -330
    },
    "id": "jFmvQszIGC9o"
   },
   "outputs": [],
   "source": [
    "corpus['sentiment']=corpus['compound'].apply(lambda x:'pos' if (x>=0) else 'neg')"
   ]
  },
  {
   "cell_type": "code",
   "execution_count": 18,
   "metadata": {
    "colab": {
     "base_uri": "https://localhost:8080/",
     "height": 423
    },
    "executionInfo": {
     "elapsed": 454,
     "status": "ok",
     "timestamp": 1731225806879,
     "user": {
      "displayName": "Mohit Singh Adhikari",
      "userId": "17134037588777525904"
     },
     "user_tz": -330
    },
    "id": "wwYXhuauGVWm",
    "outputId": "67bcbff8-aa5e-4238-ee3f-dc643a759388"
   },
   "outputs": [
    {
     "data": {
      "text/html": [
       "<div>\n",
       "<style scoped>\n",
       "    .dataframe tbody tr th:only-of-type {\n",
       "        vertical-align: middle;\n",
       "    }\n",
       "\n",
       "    .dataframe tbody tr th {\n",
       "        vertical-align: top;\n",
       "    }\n",
       "\n",
       "    .dataframe thead th {\n",
       "        text-align: right;\n",
       "    }\n",
       "</style>\n",
       "<table border=\"1\" class=\"dataframe\">\n",
       "  <thead>\n",
       "    <tr style=\"text-align: right;\">\n",
       "      <th></th>\n",
       "      <th>label</th>\n",
       "      <th>review</th>\n",
       "      <th>Polarity_Score</th>\n",
       "      <th>compound</th>\n",
       "      <th>sentiment</th>\n",
       "    </tr>\n",
       "  </thead>\n",
       "  <tbody>\n",
       "    <tr>\n",
       "      <th>0</th>\n",
       "      <td>pos</td>\n",
       "      <td>Stuning even for the non-gamer: This sound tra...</td>\n",
       "      <td>{'neg': 0.085, 'neu': 0.682, 'pos': 0.233, 'co...</td>\n",
       "      <td>0.9454</td>\n",
       "      <td>pos</td>\n",
       "    </tr>\n",
       "    <tr>\n",
       "      <th>1</th>\n",
       "      <td>pos</td>\n",
       "      <td>The best soundtrack ever to anything.: I'm rea...</td>\n",
       "      <td>{'neg': 0.017, 'neu': 0.846, 'pos': 0.137, 'co...</td>\n",
       "      <td>0.8957</td>\n",
       "      <td>pos</td>\n",
       "    </tr>\n",
       "    <tr>\n",
       "      <th>2</th>\n",
       "      <td>pos</td>\n",
       "      <td>Amazing!: This soundtrack is my favorite music...</td>\n",
       "      <td>{'neg': 0.062, 'neu': 0.674, 'pos': 0.264, 'co...</td>\n",
       "      <td>0.9847</td>\n",
       "      <td>pos</td>\n",
       "    </tr>\n",
       "    <tr>\n",
       "      <th>3</th>\n",
       "      <td>pos</td>\n",
       "      <td>Excellent Soundtrack: I truly like this soundt...</td>\n",
       "      <td>{'neg': 0.086, 'neu': 0.632, 'pos': 0.282, 'co...</td>\n",
       "      <td>0.9814</td>\n",
       "      <td>pos</td>\n",
       "    </tr>\n",
       "    <tr>\n",
       "      <th>4</th>\n",
       "      <td>pos</td>\n",
       "      <td>Remember, Pull Your Jaw Off The Floor After He...</td>\n",
       "      <td>{'neg': 0.0, 'neu': 0.72, 'pos': 0.28, 'compou...</td>\n",
       "      <td>0.9840</td>\n",
       "      <td>pos</td>\n",
       "    </tr>\n",
       "    <tr>\n",
       "      <th>...</th>\n",
       "      <td>...</td>\n",
       "      <td>...</td>\n",
       "      <td>...</td>\n",
       "      <td>...</td>\n",
       "      <td>...</td>\n",
       "    </tr>\n",
       "    <tr>\n",
       "      <th>9995</th>\n",
       "      <td>pos</td>\n",
       "      <td>A revelation of life in small town America in ...</td>\n",
       "      <td>{'neg': 0.017, 'neu': 0.852, 'pos': 0.132, 'co...</td>\n",
       "      <td>0.9610</td>\n",
       "      <td>pos</td>\n",
       "    </tr>\n",
       "    <tr>\n",
       "      <th>9996</th>\n",
       "      <td>pos</td>\n",
       "      <td>Great biography of a very interesting journali...</td>\n",
       "      <td>{'neg': 0.0, 'neu': 0.874, 'pos': 0.126, 'comp...</td>\n",
       "      <td>0.9544</td>\n",
       "      <td>pos</td>\n",
       "    </tr>\n",
       "    <tr>\n",
       "      <th>9997</th>\n",
       "      <td>neg</td>\n",
       "      <td>Interesting Subject; Poor Presentation: You'd ...</td>\n",
       "      <td>{'neg': 0.062, 'neu': 0.763, 'pos': 0.175, 'co...</td>\n",
       "      <td>0.9467</td>\n",
       "      <td>pos</td>\n",
       "    </tr>\n",
       "    <tr>\n",
       "      <th>9998</th>\n",
       "      <td>neg</td>\n",
       "      <td>Don't buy: The box looked used and it is obvio...</td>\n",
       "      <td>{'neg': 0.087, 'neu': 0.913, 'pos': 0.0, 'comp...</td>\n",
       "      <td>-0.3595</td>\n",
       "      <td>neg</td>\n",
       "    </tr>\n",
       "    <tr>\n",
       "      <th>9999</th>\n",
       "      <td>pos</td>\n",
       "      <td>Beautiful Pen and Fast Delivery.: The pen was ...</td>\n",
       "      <td>{'neg': 0.027, 'neu': 0.821, 'pos': 0.152, 'co...</td>\n",
       "      <td>0.9107</td>\n",
       "      <td>pos</td>\n",
       "    </tr>\n",
       "  </tbody>\n",
       "</table>\n",
       "<p>10000 rows × 5 columns</p>\n",
       "</div>"
      ],
      "text/plain": [
       "     label                                             review  \\\n",
       "0      pos  Stuning even for the non-gamer: This sound tra...   \n",
       "1      pos  The best soundtrack ever to anything.: I'm rea...   \n",
       "2      pos  Amazing!: This soundtrack is my favorite music...   \n",
       "3      pos  Excellent Soundtrack: I truly like this soundt...   \n",
       "4      pos  Remember, Pull Your Jaw Off The Floor After He...   \n",
       "...    ...                                                ...   \n",
       "9995   pos  A revelation of life in small town America in ...   \n",
       "9996   pos  Great biography of a very interesting journali...   \n",
       "9997   neg  Interesting Subject; Poor Presentation: You'd ...   \n",
       "9998   neg  Don't buy: The box looked used and it is obvio...   \n",
       "9999   pos  Beautiful Pen and Fast Delivery.: The pen was ...   \n",
       "\n",
       "                                         Polarity_Score  compound sentiment  \n",
       "0     {'neg': 0.085, 'neu': 0.682, 'pos': 0.233, 'co...    0.9454       pos  \n",
       "1     {'neg': 0.017, 'neu': 0.846, 'pos': 0.137, 'co...    0.8957       pos  \n",
       "2     {'neg': 0.062, 'neu': 0.674, 'pos': 0.264, 'co...    0.9847       pos  \n",
       "3     {'neg': 0.086, 'neu': 0.632, 'pos': 0.282, 'co...    0.9814       pos  \n",
       "4     {'neg': 0.0, 'neu': 0.72, 'pos': 0.28, 'compou...    0.9840       pos  \n",
       "...                                                 ...       ...       ...  \n",
       "9995  {'neg': 0.017, 'neu': 0.852, 'pos': 0.132, 'co...    0.9610       pos  \n",
       "9996  {'neg': 0.0, 'neu': 0.874, 'pos': 0.126, 'comp...    0.9544       pos  \n",
       "9997  {'neg': 0.062, 'neu': 0.763, 'pos': 0.175, 'co...    0.9467       pos  \n",
       "9998  {'neg': 0.087, 'neu': 0.913, 'pos': 0.0, 'comp...   -0.3595       neg  \n",
       "9999  {'neg': 0.027, 'neu': 0.821, 'pos': 0.152, 'co...    0.9107       pos  \n",
       "\n",
       "[10000 rows x 5 columns]"
      ]
     },
     "execution_count": 18,
     "metadata": {},
     "output_type": "execute_result"
    }
   ],
   "source": [
    "corpus"
   ]
  },
  {
   "cell_type": "code",
   "execution_count": 19,
   "metadata": {
    "colab": {
     "base_uri": "https://localhost:8080/",
     "height": 423
    },
    "executionInfo": {
     "elapsed": 482,
     "status": "ok",
     "timestamp": 1731226442175,
     "user": {
      "displayName": "Mohit Singh Adhikari",
      "userId": "17134037588777525904"
     },
     "user_tz": -330
    },
    "id": "mbhZKXNpIjes",
    "outputId": "b02c90c7-9f62-434b-9559-cc5f86c50b3a"
   },
   "outputs": [
    {
     "data": {
      "text/html": [
       "<div>\n",
       "<style scoped>\n",
       "    .dataframe tbody tr th:only-of-type {\n",
       "        vertical-align: middle;\n",
       "    }\n",
       "\n",
       "    .dataframe tbody tr th {\n",
       "        vertical-align: top;\n",
       "    }\n",
       "\n",
       "    .dataframe thead th {\n",
       "        text-align: right;\n",
       "    }\n",
       "</style>\n",
       "<table border=\"1\" class=\"dataframe\">\n",
       "  <thead>\n",
       "    <tr style=\"text-align: right;\">\n",
       "      <th></th>\n",
       "      <th>label</th>\n",
       "      <th>review</th>\n",
       "      <th>Polarity_Score</th>\n",
       "      <th>compound</th>\n",
       "      <th>sentiment</th>\n",
       "    </tr>\n",
       "  </thead>\n",
       "  <tbody>\n",
       "    <tr>\n",
       "      <th>6</th>\n",
       "      <td>neg</td>\n",
       "      <td>Buyer beware: This is a self-published book, a...</td>\n",
       "      <td>{'neg': 0.113, 'neu': 0.824, 'pos': 0.064, 'co...</td>\n",
       "      <td>-0.8653</td>\n",
       "      <td>neg</td>\n",
       "    </tr>\n",
       "    <tr>\n",
       "      <th>10</th>\n",
       "      <td>neg</td>\n",
       "      <td>The Worst!: A complete waste of time. Typograp...</td>\n",
       "      <td>{'neg': 0.398, 'neu': 0.555, 'pos': 0.047, 'co...</td>\n",
       "      <td>-0.9565</td>\n",
       "      <td>neg</td>\n",
       "    </tr>\n",
       "    <tr>\n",
       "      <th>14</th>\n",
       "      <td>neg</td>\n",
       "      <td>Awful beyond belief!: I feel I have to write t...</td>\n",
       "      <td>{'neg': 0.159, 'neu': 0.772, 'pos': 0.069, 'co...</td>\n",
       "      <td>-0.9312</td>\n",
       "      <td>neg</td>\n",
       "    </tr>\n",
       "    <tr>\n",
       "      <th>30</th>\n",
       "      <td>neg</td>\n",
       "      <td>Incorrect disc!: I am a big JVC fan, but I do ...</td>\n",
       "      <td>{'neg': 0.071, 'neu': 0.912, 'pos': 0.017, 'co...</td>\n",
       "      <td>-0.7433</td>\n",
       "      <td>neg</td>\n",
       "    </tr>\n",
       "    <tr>\n",
       "      <th>32</th>\n",
       "      <td>neg</td>\n",
       "      <td>should be titled \"Hollywood Debacle\": The plot...</td>\n",
       "      <td>{'neg': 0.127, 'neu': 0.873, 'pos': 0.0, 'comp...</td>\n",
       "      <td>-0.8345</td>\n",
       "      <td>neg</td>\n",
       "    </tr>\n",
       "    <tr>\n",
       "      <th>...</th>\n",
       "      <td>...</td>\n",
       "      <td>...</td>\n",
       "      <td>...</td>\n",
       "      <td>...</td>\n",
       "      <td>...</td>\n",
       "    </tr>\n",
       "    <tr>\n",
       "      <th>9965</th>\n",
       "      <td>neg</td>\n",
       "      <td>Terrible! Beyound-use date: Lipstick that arri...</td>\n",
       "      <td>{'neg': 0.18, 'neu': 0.82, 'pos': 0.0, 'compou...</td>\n",
       "      <td>-0.7772</td>\n",
       "      <td>neg</td>\n",
       "    </tr>\n",
       "    <tr>\n",
       "      <th>9974</th>\n",
       "      <td>neg</td>\n",
       "      <td>Dummy Scared the Be-Jesus Out of Me: Oh, God, ...</td>\n",
       "      <td>{'neg': 0.09, 'neu': 0.876, 'pos': 0.034, 'com...</td>\n",
       "      <td>-0.8459</td>\n",
       "      <td>neg</td>\n",
       "    </tr>\n",
       "    <tr>\n",
       "      <th>9976</th>\n",
       "      <td>pos</td>\n",
       "      <td>Take The Knife Up The Hill And Rent This Movie...</td>\n",
       "      <td>{'neg': 0.093, 'neu': 0.907, 'pos': 0.0, 'comp...</td>\n",
       "      <td>-0.8439</td>\n",
       "      <td>neg</td>\n",
       "    </tr>\n",
       "    <tr>\n",
       "      <th>9977</th>\n",
       "      <td>pos</td>\n",
       "      <td>MAGIC ADS WERE SCARY!: Though the movie was fr...</td>\n",
       "      <td>{'neg': 0.158, 'neu': 0.78, 'pos': 0.062, 'com...</td>\n",
       "      <td>-0.9258</td>\n",
       "      <td>neg</td>\n",
       "    </tr>\n",
       "    <tr>\n",
       "      <th>9993</th>\n",
       "      <td>neg</td>\n",
       "      <td>Mauled again - killing bears to enrich himself...</td>\n",
       "      <td>{'neg': 0.078, 'neu': 0.887, 'pos': 0.035, 'co...</td>\n",
       "      <td>-0.7096</td>\n",
       "      <td>neg</td>\n",
       "    </tr>\n",
       "  </tbody>\n",
       "</table>\n",
       "<p>1307 rows × 5 columns</p>\n",
       "</div>"
      ],
      "text/plain": [
       "     label                                             review  \\\n",
       "6      neg  Buyer beware: This is a self-published book, a...   \n",
       "10     neg  The Worst!: A complete waste of time. Typograp...   \n",
       "14     neg  Awful beyond belief!: I feel I have to write t...   \n",
       "30     neg  Incorrect disc!: I am a big JVC fan, but I do ...   \n",
       "32     neg  should be titled \"Hollywood Debacle\": The plot...   \n",
       "...    ...                                                ...   \n",
       "9965   neg  Terrible! Beyound-use date: Lipstick that arri...   \n",
       "9974   neg  Dummy Scared the Be-Jesus Out of Me: Oh, God, ...   \n",
       "9976   pos  Take The Knife Up The Hill And Rent This Movie...   \n",
       "9977   pos  MAGIC ADS WERE SCARY!: Though the movie was fr...   \n",
       "9993   neg  Mauled again - killing bears to enrich himself...   \n",
       "\n",
       "                                         Polarity_Score  compound sentiment  \n",
       "6     {'neg': 0.113, 'neu': 0.824, 'pos': 0.064, 'co...   -0.8653       neg  \n",
       "10    {'neg': 0.398, 'neu': 0.555, 'pos': 0.047, 'co...   -0.9565       neg  \n",
       "14    {'neg': 0.159, 'neu': 0.772, 'pos': 0.069, 'co...   -0.9312       neg  \n",
       "30    {'neg': 0.071, 'neu': 0.912, 'pos': 0.017, 'co...   -0.7433       neg  \n",
       "32    {'neg': 0.127, 'neu': 0.873, 'pos': 0.0, 'comp...   -0.8345       neg  \n",
       "...                                                 ...       ...       ...  \n",
       "9965  {'neg': 0.18, 'neu': 0.82, 'pos': 0.0, 'compou...   -0.7772       neg  \n",
       "9974  {'neg': 0.09, 'neu': 0.876, 'pos': 0.034, 'com...   -0.8459       neg  \n",
       "9976  {'neg': 0.093, 'neu': 0.907, 'pos': 0.0, 'comp...   -0.8439       neg  \n",
       "9977  {'neg': 0.158, 'neu': 0.78, 'pos': 0.062, 'com...   -0.9258       neg  \n",
       "9993  {'neg': 0.078, 'neu': 0.887, 'pos': 0.035, 'co...   -0.7096       neg  \n",
       "\n",
       "[1307 rows x 5 columns]"
      ]
     },
     "execution_count": 19,
     "metadata": {},
     "output_type": "execute_result"
    }
   ],
   "source": [
    "corpus[corpus['compound']<=-0.7]"
   ]
  },
  {
   "cell_type": "code",
   "execution_count": 20,
   "metadata": {
    "colab": {
     "base_uri": "https://localhost:8080/",
     "height": 178
    },
    "executionInfo": {
     "elapsed": 459,
     "status": "ok",
     "timestamp": 1731226475556,
     "user": {
      "displayName": "Mohit Singh Adhikari",
      "userId": "17134037588777525904"
     },
     "user_tz": -330
    },
    "id": "CXxuo47XIy6-",
    "outputId": "d9f600cb-af49-4121-d091-895fa8a4d90b"
   },
   "outputs": [
    {
     "data": {
      "text/plain": [
       "label\n",
       "neg    5097\n",
       "pos    4903\n",
       "Name: count, dtype: int64"
      ]
     },
     "execution_count": 20,
     "metadata": {},
     "output_type": "execute_result"
    }
   ],
   "source": [
    "corpus['label'].value_counts()"
   ]
  },
  {
   "cell_type": "code",
   "execution_count": 21,
   "metadata": {
    "colab": {
     "base_uri": "https://localhost:8080/",
     "height": 178
    },
    "executionInfo": {
     "elapsed": 433,
     "status": "ok",
     "timestamp": 1731226500553,
     "user": {
      "displayName": "Mohit Singh Adhikari",
      "userId": "17134037588777525904"
     },
     "user_tz": -330
    },
    "id": "0vbeFIeFI6h8",
    "outputId": "554a334e-e8e5-42a6-efab-02769a8071c3"
   },
   "outputs": [
    {
     "data": {
      "text/plain": [
       "sentiment\n",
       "pos    6967\n",
       "neg    3033\n",
       "Name: count, dtype: int64"
      ]
     },
     "execution_count": 21,
     "metadata": {},
     "output_type": "execute_result"
    }
   ],
   "source": [
    "corpus['sentiment'].value_counts()"
   ]
  },
  {
   "cell_type": "code",
   "execution_count": 22,
   "metadata": {
    "executionInfo": {
     "elapsed": 10,
     "status": "ok",
     "timestamp": 1731226589208,
     "user": {
      "displayName": "Mohit Singh Adhikari",
      "userId": "17134037588777525904"
     },
     "user_tz": -330
    },
    "id": "dwpKQnEiJNsD"
   },
   "outputs": [],
   "source": [
    "y_true=corpus['label']\n",
    "y_pred=corpus['sentiment']"
   ]
  },
  {
   "cell_type": "code",
   "execution_count": 23,
   "metadata": {
    "colab": {
     "base_uri": "https://localhost:8080/"
    },
    "executionInfo": {
     "elapsed": 846,
     "status": "ok",
     "timestamp": 1731226658894,
     "user": {
      "displayName": "Mohit Singh Adhikari",
      "userId": "17134037588777525904"
     },
     "user_tz": -330
    },
    "id": "RZOCaoYiJV4M",
    "outputId": "a6e05df8-b3ee-4273-87b9-4d04ff0aa56c"
   },
   "outputs": [
    {
     "name": "stdout",
     "output_type": "stream",
     "text": [
      "              precision    recall  f1-score   support\n",
      "\n",
      "         neg       0.87      0.52      0.65      5097\n",
      "         pos       0.65      0.92      0.76      4903\n",
      "\n",
      "    accuracy                           0.71     10000\n",
      "   macro avg       0.76      0.72      0.70     10000\n",
      "weighted avg       0.76      0.71      0.70     10000\n",
      "\n"
     ]
    }
   ],
   "source": [
    "print(classification_report(y_true,y_pred))"
   ]
  },
  {
   "cell_type": "markdown",
   "metadata": {},
   "source": [
    "Accuracy here is 71%"
   ]
  },
  {
   "cell_type": "code",
   "execution_count": null,
   "metadata": {},
   "outputs": [],
   "source": []
  }
 ],
 "metadata": {
  "colab": {
   "authorship_tag": "ABX9TyOyO1L9sgBPdqoK9IJl/2/E",
   "mount_file_id": "16sc1ALURS-HPakU6zGd_mbvcb2Z7W71a",
   "provenance": []
  },
  "kernelspec": {
   "display_name": "Python 3 (ipykernel)",
   "language": "python",
   "name": "python3"
  },
  "language_info": {
   "codemirror_mode": {
    "name": "ipython",
    "version": 3
   },
   "file_extension": ".py",
   "mimetype": "text/x-python",
   "name": "python",
   "nbconvert_exporter": "python",
   "pygments_lexer": "ipython3",
   "version": "3.12.7"
  }
 },
 "nbformat": 4,
 "nbformat_minor": 4
}
